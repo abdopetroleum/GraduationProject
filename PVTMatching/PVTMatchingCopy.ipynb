{
 "cells": [
  {
   "cell_type": "code",
   "execution_count": 12,
   "metadata": {
    "collapsed": true
   },
   "outputs": [],
   "source": [
    "# Import Libraries\n",
    "import pandas as pd\n",
    "import numpy as np\n",
    "from scipy.optimize import curve_fit"
   ]
  },
  {
   "cell_type": "code",
   "execution_count": 13,
   "outputs": [],
   "source": [
    "# Basic PVT Properties\n",
    "pb = 1050\n",
    "api=20.7\n",
    "sg_gas=.85\n",
    "# Parameters\n",
    "temp=205"
   ],
   "metadata": {
    "collapsed": false,
    "pycharm": {
     "name": "#%%\n"
    }
   }
  },
  {
   "cell_type": "code",
   "execution_count": 14,
   "outputs": [],
   "source": [
    "def api_to_sg(api):\n",
    "    api = np.atleast_1d(api)\n",
    "    sg = 141.5 / (131.5 + api)\n",
    "    return sg\n",
    "def sg_to_api(sg):\n",
    "    sg = np.atleast_1d(sg)\n",
    "    api = (141.5 / sg) - 131.5\n",
    "    return api"
   ],
   "metadata": {
    "collapsed": false,
    "pycharm": {
     "name": "#%%\n"
    }
   }
  },
  {
   "cell_type": "code",
   "execution_count": 15,
   "outputs": [],
   "source": [
    "def correlated_property(x,a,b):\n",
    "    return a*x+b"
   ],
   "metadata": {
    "collapsed": false,
    "pycharm": {
     "name": "#%%\n"
    }
   }
  },
  {
   "cell_type": "code",
   "execution_count": 16,
   "outputs": [],
   "source": [
    "def rs_correlations(p=None, pb=pb, temp=temp, api=api, sg_gas=sg_gas,method='standing',is_psig=True):\n",
    "    if is_psig:\n",
    "        p=p+14.65\n",
    "\n",
    "    \"\"\"\n",
    "    Estimate the Gas-Oil Ratio using Standing Correlation\n",
    "    Input:\n",
    "        p -> (int,float,np.array) Interest Pressure [psi]\n",
    "        pb -> (int,float,np.array) Bubble Point [psi]\n",
    "        temp -> (int,float,np.array)Temperature [F]\n",
    "        api -> (int,float,np.array)Oil API gravity [API]\n",
    "        sg_gas -> (int,float,np.array) Gas specifi gravity\n",
    "        rsb -> (int,float,np.array) Gas oil ration at bubble point\n",
    "        method -> (list, default 'standing')List of correlation methods\n",
    "                  ['standing',laster,'vazquez_beggs','glaso','valarde']\n",
    "                  * Valarde method builds rs below pb given rsb\n",
    "\n",
    "    Return:\n",
    "        rs -> (pd.DataFrame) Gas Oil Ratio indexed by pressure\n",
    "    Source: Correlaciones Numericas PVT - Carlos Banzer\n",
    "    \"\"\"\n",
    "    p=np.array(p)\n",
    "    assert isinstance(p, (int, float, list, np.ndarray))\n",
    "    p = np.atleast_1d(p)\n",
    "\n",
    "    assert isinstance(pb, (int, float, list, np.ndarray))\n",
    "    pb = np.atleast_1d(pb)\n",
    "\n",
    "    assert isinstance(temp, (int, float, list, np.ndarray))\n",
    "    temp = np.atleast_1d(temp)\n",
    "\n",
    "    assert isinstance(api, (int, float, list, np.ndarray))\n",
    "    api = np.atleast_1d(api)\n",
    "\n",
    "    assert isinstance(sg_gas, (int, float, list, np.ndarray))\n",
    "    sg_gas = np.atleast_1d(sg_gas)\n",
    "    assert isinstance(method, (str, list))\n",
    "\n",
    "    methods = []\n",
    "\n",
    "    if isinstance(method, str):\n",
    "        methods.append(method)\n",
    "        multiple = False\n",
    "    else:\n",
    "        methods.extend(method)\n",
    "        multiple = True\n",
    "    rs_dict = {}\n",
    "    p_sat = np.zeros(p.shape)\n",
    "    p_sat[p >= pb] = pb\n",
    "    p_sat[p < pb] = p[p < pb]\n",
    "\n",
    "    if 'standing' in methods:\n",
    "        rs = sg_gas * np.power(((p_sat / 18.2) + 1.4) * np.power(10, 0.0125 * api - 0.00091 * temp), 1.2048)\n",
    "        rs_dict['rs_standing'] = rs\n",
    "\n",
    "    if 'laster' in methods:\n",
    "        array_shape = p_sat * sg_gas * temp * p\n",
    "        mo = np.zeros(api.shape)\n",
    "        mo[api <= 40] = 630 - 10 * api[api <= 40]\n",
    "        mo[api > 40] = 73110 * np.power(api[api > 40], -1.562)\n",
    "\n",
    "        pb_factor = (p_sat * sg_gas) / (temp + 459.67)\n",
    "\n",
    "        # estimate yg\n",
    "\n",
    "        yg = np.zeros(array_shape.shape)\n",
    "\n",
    "        yg[pb_factor < 3.29] = 0.359 * np.log(1.473 * pb_factor[pb_factor < 3.29] + 0.476)\n",
    "        yg[pb_factor >= 3.29] = np.power(0.121 * pb_factor[pb_factor >= 3.29] - 0.236, 0.281)\n",
    "\n",
    "        sg_oil = api_to_sg(api)\n",
    "        rs = (132755 * sg_oil * yg) / (mo * (1 - yg))\n",
    "        rs_dict['rs_laster'] = rs\n",
    "\n",
    "    if 'vazquez_beggs' in methods:\n",
    "        # Constants c1, c2, c3\n",
    "        c1 = np.zeros(api.shape)\n",
    "        c2 = np.zeros(api.shape)\n",
    "        c3 = np.zeros(api.shape)\n",
    "\n",
    "        c1[api <= 30] = 0.0362\n",
    "        c1[api > 30] = 0.0178\n",
    "\n",
    "        c2[api <= 30] = 1.0937\n",
    "        c2[api > 30] = 1.1870\n",
    "\n",
    "        c3[api <= 30] = 25.724\n",
    "        c3[api > 30] = 23.931\n",
    "\n",
    "        rs = c1 * sg_gas * np.power(p_sat, c2) * np.exp((c3 * api) / (temp + 460))\n",
    "        rs_dict['rs_vazquez_beggs'] = rs\n",
    "\n",
    "    if 'glaso' in methods:\n",
    "        f = np.power(10, 2.8869 - np.power(14.1811 - 3.3093 * np.log10(p_sat), 0.5))\n",
    "        rs = sg_gas * np.power(f * (np.power(api, 0.989) / np.power(temp, 0.172)), 1.2255)\n",
    "        rs_dict['rs_glaso'] = rs\n",
    "\n",
    "    if is_psig:\n",
    "        p=p-14.65\n",
    "    rs_df = pd.DataFrame(rs_dict, index=p) if multiple == True else pd.DataFrame({'rs': rs}, index=p)\n",
    "    rs_df.index.name = 'pressure'\n",
    "    return rs_df"
   ],
   "metadata": {
    "collapsed": false,
    "pycharm": {
     "name": "#%%\n"
    }
   }
  },
  {
   "cell_type": "code",
   "execution_count": 17,
   "outputs": [],
   "source": [
    "def correlated_rs(inputs=None, pb=pb, temp=temp, api=api, sg_gas=sg_gas,method=[\"standing\",\"glaso\",\"vazquez_beggs\"],pressure_range=np.arange(start=0,stop=pb,step=int(pb/100))):\n",
    "    p=inputs[\"p\"]\n",
    "    actual_rs=inputs[\"rs\"]\n",
    "    rs=rs_correlations(p=p,pb=pb,temp=temp,api=api,sg_gas=sg_gas,method=method)\n",
    "    a_values=[]\n",
    "    b_values=[]\n",
    "    methods=[]\n",
    "    result=pd.DataFrame()\n",
    "    before_matching=pd.DataFrame()\n",
    "    for column in rs.columns:\n",
    "        fitting_parameters=curve_fit(correlated_property, rs[column], actual_rs)\n",
    "        a=fitting_parameters[0][0]\n",
    "        b=fitting_parameters[0][1]\n",
    "        print(str(column)[3:])\n",
    "        result[column]=a*rs_correlations(p=pressure_range,pb=pb,temp=temp,api=api,sg_gas=sg_gas,method=str(column)[3:])+b\n",
    "        before_matching[column]=rs_correlations(p=pressure_range,pb=pb,temp=temp,api=api,sg_gas=sg_gas,method=str(column)[3:])\n",
    "        a_values.append(a)\n",
    "        b_values.append(b)\n",
    "    parameters = pd.DataFrame(columns=(\"Parameter1\",\"Parameter2\"))\n",
    "    parameters[\"Parameter1\"]=a_values\n",
    "    parameters[\"Parameter2\"]=b_values\n",
    "    return result,inputs,before_matching,parameters"
   ],
   "metadata": {
    "collapsed": false,
    "pycharm": {
     "name": "#%%\n"
    }
   }
  },
  {
   "cell_type": "code",
   "execution_count": 18,
   "outputs": [
    {
     "data": {
      "text/plain": "   Temperature F  Pressure PSIG  Bubble point Psig  GOR scf/stb  Bo bbl/stb  \\\n0            205           4350               1050       180.85     1.15356   \n1            205           4060               1050       180.85     1.15544   \n2            205           3770               1050       180.85     1.15751   \n3            205           3690               1050       180.85     1.15815   \n4            205           3480               1050       180.85     1.15681   \n\n   Viscosity CP  Bg bbl/scf  Mg CP            Unnamed: 8  Unnamed: 9  \n0        5.1477         NaN    NaN               Oil API       20.70  \n1        5.0585         NaN    NaN  Gas Specific Gravity        0.85  \n2        4.9694         NaN    NaN                   NaN         NaN  \n3        4.9448         NaN    NaN                   NaN         NaN  \n4        4.8802         NaN    NaN                   NaN         NaN  ",
      "text/html": "<div>\n<style scoped>\n    .dataframe tbody tr th:only-of-type {\n        vertical-align: middle;\n    }\n\n    .dataframe tbody tr th {\n        vertical-align: top;\n    }\n\n    .dataframe thead th {\n        text-align: right;\n    }\n</style>\n<table border=\"1\" class=\"dataframe\">\n  <thead>\n    <tr style=\"text-align: right;\">\n      <th></th>\n      <th>Temperature F</th>\n      <th>Pressure PSIG</th>\n      <th>Bubble point Psig</th>\n      <th>GOR scf/stb</th>\n      <th>Bo bbl/stb</th>\n      <th>Viscosity CP</th>\n      <th>Bg bbl/scf</th>\n      <th>Mg CP</th>\n      <th>Unnamed: 8</th>\n      <th>Unnamed: 9</th>\n    </tr>\n  </thead>\n  <tbody>\n    <tr>\n      <th>0</th>\n      <td>205</td>\n      <td>4350</td>\n      <td>1050</td>\n      <td>180.85</td>\n      <td>1.15356</td>\n      <td>5.1477</td>\n      <td>NaN</td>\n      <td>NaN</td>\n      <td>Oil API</td>\n      <td>20.70</td>\n    </tr>\n    <tr>\n      <th>1</th>\n      <td>205</td>\n      <td>4060</td>\n      <td>1050</td>\n      <td>180.85</td>\n      <td>1.15544</td>\n      <td>5.0585</td>\n      <td>NaN</td>\n      <td>NaN</td>\n      <td>Gas Specific Gravity</td>\n      <td>0.85</td>\n    </tr>\n    <tr>\n      <th>2</th>\n      <td>205</td>\n      <td>3770</td>\n      <td>1050</td>\n      <td>180.85</td>\n      <td>1.15751</td>\n      <td>4.9694</td>\n      <td>NaN</td>\n      <td>NaN</td>\n      <td>NaN</td>\n      <td>NaN</td>\n    </tr>\n    <tr>\n      <th>3</th>\n      <td>205</td>\n      <td>3690</td>\n      <td>1050</td>\n      <td>180.85</td>\n      <td>1.15815</td>\n      <td>4.9448</td>\n      <td>NaN</td>\n      <td>NaN</td>\n      <td>NaN</td>\n      <td>NaN</td>\n    </tr>\n    <tr>\n      <th>4</th>\n      <td>205</td>\n      <td>3480</td>\n      <td>1050</td>\n      <td>180.85</td>\n      <td>1.15681</td>\n      <td>4.8802</td>\n      <td>NaN</td>\n      <td>NaN</td>\n      <td>NaN</td>\n      <td>NaN</td>\n    </tr>\n  </tbody>\n</table>\n</div>"
     },
     "execution_count": 18,
     "metadata": {},
     "output_type": "execute_result"
    }
   ],
   "source": [
    "df = pd.read_excel('PVT DATA.xlsx',sheet_name=1)\n",
    "df.head()"
   ],
   "metadata": {
    "collapsed": false,
    "pycharm": {
     "name": "#%%\n"
    }
   }
  },
  {
   "cell_type": "code",
   "execution_count": 19,
   "outputs": [
    {
     "name": "stdout",
     "output_type": "stream",
     "text": [
      "standing\n",
      "vazquez_beggs\n",
      "glaso\n",
      "   Parameter1  Parameter2\n",
      "0    1.093478   27.487787\n",
      "1    1.136765   25.098864\n",
      "2    1.441721   13.077091\n"
     ]
    }
   ],
   "source": [
    "inputs=pd.DataFrame()\n",
    "inputs[\"p\"]=df[\"Pressure PSIG\"]\n",
    "inputs[\"rs\"]=df[\"GOR scf/stb\"]\n",
    "result=correlated_rs(inputs=inputs,pressure_range=np.arange(start=0,stop=4000,step=100))\n",
    "print(result[3])"
   ],
   "metadata": {
    "collapsed": false,
    "pycharm": {
     "name": "#%%\n"
    }
   }
  },
  {
   "cell_type": "code",
   "execution_count": 20,
   "outputs": [
    {
     "data": {
      "text/plain": "(5.0, 191.32175759172628)"
     },
     "execution_count": 20,
     "metadata": {},
     "output_type": "execute_result"
    },
    {
     "data": {
      "text/plain": "<Figure size 864x576 with 1 Axes>",
      "image/png": "[encoded data removed]"
     },
     "metadata": {
      "needs_background": "light"
     },
     "output_type": "display_data"
    }
   ],
   "source": [
    "import matplotlib.pyplot as plt\n",
    "plt.ion()\n",
    "figure, ax = plt.subplots(figsize=(12, 8))\n",
    "ax.plot(result[0],label=result[0].columns)\n",
    "ax.plot(result[2],label=result[2].columns+\" Before Match\")\n",
    "ax.scatter(x=result[1][\"p\"],y=result[1][\"rs\"],label=\"Test Data\")\n",
    "ax.legend()\n",
    "plt.xlim(100,3000)\n",
    "plt.ylim(5)\n"
   ],
   "metadata": {
    "collapsed": false,
    "pycharm": {
     "name": "#%%\n"
    }
   }
  },
  {
   "cell_type": "code",
   "execution_count": 10,
   "outputs": [],
   "source": [
    "def bo(p=None, rs=None, pb=None, temp=None, api=None, sg_gas=None, method='standing'):\n",
    "    methods = []\n",
    "    if isinstance(method, str):\n",
    "        methods.append(method)\n",
    "        multiple = False\n",
    "    else:\n",
    "        methods.extend(method)\n",
    "        multiple = True\n",
    "\n",
    "    bo_dict = {}\n",
    "\n",
    "    if 'standing' in methods:\n",
    "        sg_oil = api_to_sg(api)\n",
    "        f = rs * np.sqrt(sg_gas / sg_oil) + 1.25 * temp\n",
    "        bo = 0.9759 + 12e-5 * np.power(f, 1.2)\n",
    "        bo_dict['bo_standing'] = bo\n",
    "\n",
    "    if 'vazquez_beggs' in methods:\n",
    "        # Constants c1, c2, c3\n",
    "        c1 = np.zeros(api.shape)\n",
    "        c2 = np.zeros(api.shape)\n",
    "        c3 = np.zeros(api.shape)\n",
    "\n",
    "        c1[api <= 30] = 4.677e-4\n",
    "        c1[api > 30] = 4.670e-4\n",
    "\n",
    "        c2[api <= 30] = 1.751e-5\n",
    "        c2[api > 30] = 1.1e-5\n",
    "\n",
    "        c3[api <= 30] = -1.8106e-8\n",
    "        c3[api > 30] = 1.3370e-9\n",
    "\n",
    "        bo = 1 + c1 * rs + c2 * (temp - 60) * (api / sg_gas) + c3 * rs * (temp - 60) * (api / sg_gas)\n",
    "        bo_dict['bo_vazquez_beggs'] = bo\n",
    "\n",
    "    if 'glaso' in methods:\n",
    "        sg_oil = api_to_sg(api)\n",
    "        f = rs * np.power(sg_gas / sg_oil, 0.526) + 0.968 * temp\n",
    "        bo = 1 + np.power(10, -6.58511 + 2.91329 * np.log10(f) - 0.27683 * np.power(np.log10(f), 2))\n",
    "        bo_dict['bo_glaso'] = bo\n",
    "\n",
    "    bo_df = pd.DataFrame(bo_dict, index=p) if multiple == True else pd.DataFrame({'bo': bo}, index=p)\n",
    "    bo_df.index.name = 'pressure'\n",
    "    return bo_df\n"
   ],
   "metadata": {
    "collapsed": false,
    "pycharm": {
     "name": "#%%\n"
    }
   }
  },
  {
   "cell_type": "code",
   "execution_count": null,
   "outputs": [],
   "source": [],
   "metadata": {
    "collapsed": false,
    "pycharm": {
     "name": "#%%\n"
    }
   }
  }
 ],
 "metadata": {
  "kernelspec": {
   "display_name": "Python 3",
   "language": "python",
   "name": "python3"
  },
  "language_info": {
   "codemirror_mode": {
    "name": "ipython",
    "version": 2
   },
   "file_extension": ".py",
   "mimetype": "text/x-python",
   "name": "python",
   "nbconvert_exporter": "python",
   "pygments_lexer": "ipython2",
   "version": "2.7.6"
  }
 },
 "nbformat": 4,
 "nbformat_minor": 0
}