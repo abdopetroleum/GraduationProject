{
 "cells": [
  {
   "cell_type": "code",
   "execution_count": 15,
   "metadata": {
    "pycharm": {
     "name": "#%%\n"
    }
   },
   "outputs": [],
   "source": [
    "# Import libraries\n",
    "import numpy as np\n",
    "import matplotlib.pyplot as plt\n",
    "import pandas as pd\n",
    "from scipy.optimize import curve_fit\n",
    "from DCA import remove_outlier, arps_fit"
   ]
  },
  {
   "cell_type": "code",
   "execution_count": 2,
   "metadata": {
    "pycharm": {
     "name": "#%%\n"
    }
   },
   "outputs": [
    {
     "data": {
      "text/html": [
       "<div>\n",
       "<style scoped>\n",
       "    .dataframe tbody tr th:only-of-type {\n",
       "        vertical-align: middle;\n",
       "    }\n",
       "\n",
       "    .dataframe tbody tr th {\n",
       "        vertical-align: top;\n",
       "    }\n",
       "\n",
       "    .dataframe thead th {\n",
       "        text-align: right;\n",
       "    }\n",
       "</style>\n",
       "<table border=\"1\" class=\"dataframe\">\n",
       "  <thead>\n",
       "    <tr style=\"text-align: right;\">\n",
       "      <th></th>\n",
       "      <th>Date</th>\n",
       "      <th>Monthly oil production</th>\n",
       "      <th>monthly gas production</th>\n",
       "      <th>monthly water production</th>\n",
       "    </tr>\n",
       "  </thead>\n",
       "  <tbody>\n",
       "    <tr>\n",
       "      <th>0</th>\n",
       "      <td>1963-11-30</td>\n",
       "      <td>49569.962851</td>\n",
       "      <td>13.913977</td>\n",
       "      <td>25.159226</td>\n",
       "    </tr>\n",
       "    <tr>\n",
       "      <th>1</th>\n",
       "      <td>1963-12-31</td>\n",
       "      <td>81591.371392</td>\n",
       "      <td>22.919216</td>\n",
       "      <td>44.028646</td>\n",
       "    </tr>\n",
       "    <tr>\n",
       "      <th>2</th>\n",
       "      <td>1964-01-31</td>\n",
       "      <td>81497.024292</td>\n",
       "      <td>22.883901</td>\n",
       "      <td>50.318453</td>\n",
       "    </tr>\n",
       "    <tr>\n",
       "      <th>3</th>\n",
       "      <td>1964-02-29</td>\n",
       "      <td>76138.109058</td>\n",
       "      <td>21.365371</td>\n",
       "      <td>44.028646</td>\n",
       "    </tr>\n",
       "    <tr>\n",
       "      <th>4</th>\n",
       "      <td>1964-03-31</td>\n",
       "      <td>71301.247772</td>\n",
       "      <td>19.988099</td>\n",
       "      <td>37.738840</td>\n",
       "    </tr>\n",
       "  </tbody>\n",
       "</table>\n",
       "</div>"
      ],
      "text/plain": [
       "        Date  Monthly oil production  monthly gas production  \\\n",
       "0 1963-11-30            49569.962851               13.913977   \n",
       "1 1963-12-31            81591.371392               22.919216   \n",
       "2 1964-01-31            81497.024292               22.883901   \n",
       "3 1964-02-29            76138.109058               21.365371   \n",
       "4 1964-03-31            71301.247772               19.988099   \n",
       "\n",
       "   monthly water production  \n",
       "0                 25.159226  \n",
       "1                 44.028646  \n",
       "2                 50.318453  \n",
       "3                 44.028646  \n",
       "4                 37.738840  "
      ]
     },
     "execution_count": 2,
     "metadata": {},
     "output_type": "execute_result"
    }
   ],
   "source": [
    "df = pd.read_excel('production_data.xlsx')\n",
    "df.head()"
   ]
  },
  {
   "cell_type": "code",
   "execution_count": 3,
   "metadata": {
    "pycharm": {
     "name": "#%%\n"
    }
   },
   "outputs": [
    {
     "data": {
      "text/html": [
       "<div>\n",
       "<style scoped>\n",
       "    .dataframe tbody tr th:only-of-type {\n",
       "        vertical-align: middle;\n",
       "    }\n",
       "\n",
       "    .dataframe tbody tr th {\n",
       "        vertical-align: top;\n",
       "    }\n",
       "\n",
       "    .dataframe thead th {\n",
       "        text-align: right;\n",
       "    }\n",
       "</style>\n",
       "<table border=\"1\" class=\"dataframe\">\n",
       "  <thead>\n",
       "    <tr style=\"text-align: right;\">\n",
       "      <th></th>\n",
       "      <th>Date</th>\n",
       "      <th>Monthly oil production</th>\n",
       "    </tr>\n",
       "  </thead>\n",
       "  <tbody>\n",
       "    <tr>\n",
       "      <th>0</th>\n",
       "      <td>1963-11-30</td>\n",
       "      <td>49569.962851</td>\n",
       "    </tr>\n",
       "    <tr>\n",
       "      <th>1</th>\n",
       "      <td>1963-12-31</td>\n",
       "      <td>81591.371392</td>\n",
       "    </tr>\n",
       "    <tr>\n",
       "      <th>2</th>\n",
       "      <td>1964-01-31</td>\n",
       "      <td>81497.024292</td>\n",
       "    </tr>\n",
       "    <tr>\n",
       "      <th>3</th>\n",
       "      <td>1964-02-29</td>\n",
       "      <td>76138.109058</td>\n",
       "    </tr>\n",
       "    <tr>\n",
       "      <th>4</th>\n",
       "      <td>1964-03-31</td>\n",
       "      <td>71301.247772</td>\n",
       "    </tr>\n",
       "  </tbody>\n",
       "</table>\n",
       "</div>"
      ],
      "text/plain": [
       "        Date  Monthly oil production\n",
       "0 1963-11-30            49569.962851\n",
       "1 1963-12-31            81591.371392\n",
       "2 1964-01-31            81497.024292\n",
       "3 1964-02-29            76138.109058\n",
       "4 1964-03-31            71301.247772"
      ]
     },
     "execution_count": 3,
     "metadata": {},
     "output_type": "execute_result"
    }
   ],
   "source": [
    "df = df[[\"Date\", \"Monthly oil production\"]]\n",
    "df.head()"
   ]
  },
  {
   "cell_type": "code",
   "execution_count": 4,
   "metadata": {
    "pycharm": {
     "name": "#%%\n"
    }
   },
   "outputs": [
    {
     "data": {
      "image/png": "[encoded data removed]",
      "text/plain": [
       "<Figure size 720x360 with 1 Axes>"
      ]
     },
     "metadata": {
      "needs_background": "light"
     },
     "output_type": "display_data"
    }
   ],
   "source": [
    "# Plot oil production rate\n",
    "plt.figure(figsize=(10,5))\n",
    "plt.step(df[\"Date\"], df[\"Monthly oil production\"])\n",
    "plt.show()"
   ]
  },
  {
   "cell_type": "code",
   "execution_count": 5,
   "metadata": {},
   "outputs": [
    {
     "data": {
      "text/html": [
       "<div>\n",
       "<style scoped>\n",
       "    .dataframe tbody tr th:only-of-type {\n",
       "        vertical-align: middle;\n",
       "    }\n",
       "\n",
       "    .dataframe tbody tr th {\n",
       "        vertical-align: top;\n",
       "    }\n",
       "\n",
       "    .dataframe thead th {\n",
       "        text-align: right;\n",
       "    }\n",
       "</style>\n",
       "<table border=\"1\" class=\"dataframe\">\n",
       "  <thead>\n",
       "    <tr style=\"text-align: right;\">\n",
       "      <th></th>\n",
       "      <th>Monthly oil production</th>\n",
       "      <th>Date</th>\n",
       "    </tr>\n",
       "    <tr>\n",
       "      <th>Date</th>\n",
       "      <th></th>\n",
       "      <th></th>\n",
       "    </tr>\n",
       "  </thead>\n",
       "  <tbody>\n",
       "    <tr>\n",
       "      <th>1963-11-30</th>\n",
       "      <td>49569.962851</td>\n",
       "      <td>1963-11-30</td>\n",
       "    </tr>\n",
       "    <tr>\n",
       "      <th>1963-12-31</th>\n",
       "      <td>81591.371392</td>\n",
       "      <td>1963-12-31</td>\n",
       "    </tr>\n",
       "    <tr>\n",
       "      <th>1964-01-31</th>\n",
       "      <td>81497.024292</td>\n",
       "      <td>1964-01-31</td>\n",
       "    </tr>\n",
       "    <tr>\n",
       "      <th>1964-02-29</th>\n",
       "      <td>76138.109058</td>\n",
       "      <td>1964-02-29</td>\n",
       "    </tr>\n",
       "    <tr>\n",
       "      <th>1964-03-31</th>\n",
       "      <td>71301.247772</td>\n",
       "      <td>1964-03-31</td>\n",
       "    </tr>\n",
       "  </tbody>\n",
       "</table>\n",
       "</div>"
      ],
      "text/plain": [
       "            Monthly oil production       Date\n",
       "Date                                         \n",
       "1963-11-30            49569.962851 1963-11-30\n",
       "1963-12-31            81591.371392 1963-12-31\n",
       "1964-01-31            81497.024292 1964-01-31\n",
       "1964-02-29            76138.109058 1964-02-29\n",
       "1964-03-31            71301.247772 1964-03-31"
      ]
     },
     "execution_count": 5,
     "metadata": {},
     "output_type": "execute_result"
    }
   ],
   "source": [
    "df=df.set_index('Date')\n",
    "df=df.assign(Date=df.index.get_level_values('Date'))\n",
    "df.head() "
   ]
  },
  {
   "cell_type": "code",
   "execution_count": 10,
   "metadata": {},
   "outputs": [
    {
     "data": {
      "image/png": "[encoded data removed]",
      "text/plain": [
       "<Figure size 720x360 with 1 Axes>"
      ]
     },
     "metadata": {
      "needs_background": "light"
     },
     "output_type": "display_data"
    }
   ],
   "source": [
    "# Plot oil production rate\n",
    "plt.figure(figsize=(10,5))\n",
    "plt.step(df['2006-05-01' :'2014-05-01'].index ,df[\"Monthly oil production\"]['2006-05-01' :'2014-05-01'])\n",
    "plt.show()"
   ]
  },
  {
   "cell_type": "code",
   "execution_count": 11,
   "metadata": {
    "pycharm": {
     "name": "#%%\n"
    }
   },
   "outputs": [
    {
     "data": {
      "text/html": [
       "<div>\n",
       "<style scoped>\n",
       "    .dataframe tbody tr th:only-of-type {\n",
       "        vertical-align: middle;\n",
       "    }\n",
       "\n",
       "    .dataframe tbody tr th {\n",
       "        vertical-align: top;\n",
       "    }\n",
       "\n",
       "    .dataframe thead th {\n",
       "        text-align: right;\n",
       "    }\n",
       "</style>\n",
       "<table border=\"1\" class=\"dataframe\">\n",
       "  <thead>\n",
       "    <tr style=\"text-align: right;\">\n",
       "      <th></th>\n",
       "      <th>Monthly oil production</th>\n",
       "      <th>Date</th>\n",
       "      <th>Monthly oil production_rol_Av</th>\n",
       "      <th>Monthly oil production_rol_Std</th>\n",
       "      <th>Monthly oil production_is_Outlier</th>\n",
       "    </tr>\n",
       "  </thead>\n",
       "  <tbody>\n",
       "    <tr>\n",
       "      <th>0</th>\n",
       "      <td>191971.187654</td>\n",
       "      <td>2008-03-31</td>\n",
       "      <td>175782.734984</td>\n",
       "      <td>17581.075492</td>\n",
       "      <td>False</td>\n",
       "    </tr>\n",
       "    <tr>\n",
       "      <th>1</th>\n",
       "      <td>165321.277032</td>\n",
       "      <td>2008-04-30</td>\n",
       "      <td>175876.327306</td>\n",
       "      <td>17448.875864</td>\n",
       "      <td>False</td>\n",
       "    </tr>\n",
       "    <tr>\n",
       "      <th>2</th>\n",
       "      <td>202255.021467</td>\n",
       "      <td>2008-05-31</td>\n",
       "      <td>175421.322696</td>\n",
       "      <td>17977.509316</td>\n",
       "      <td>False</td>\n",
       "    </tr>\n",
       "    <tr>\n",
       "      <th>3</th>\n",
       "      <td>218331.767171</td>\n",
       "      <td>2008-06-30</td>\n",
       "      <td>174616.856430</td>\n",
       "      <td>19116.473568</td>\n",
       "      <td>False</td>\n",
       "    </tr>\n",
       "    <tr>\n",
       "      <th>4</th>\n",
       "      <td>220986.065562</td>\n",
       "      <td>2008-07-31</td>\n",
       "      <td>173670.240535</td>\n",
       "      <td>20046.091576</td>\n",
       "      <td>False</td>\n",
       "    </tr>\n",
       "  </tbody>\n",
       "</table>\n",
       "</div>"
      ],
      "text/plain": [
       "   Monthly oil production       Date  Monthly oil production_rol_Av  \\\n",
       "0           191971.187654 2008-03-31                  175782.734984   \n",
       "1           165321.277032 2008-04-30                  175876.327306   \n",
       "2           202255.021467 2008-05-31                  175421.322696   \n",
       "3           218331.767171 2008-06-30                  174616.856430   \n",
       "4           220986.065562 2008-07-31                  173670.240535   \n",
       "\n",
       "   Monthly oil production_rol_Std  Monthly oil production_is_Outlier  \n",
       "0                    17581.075492                              False  \n",
       "1                    17448.875864                              False  \n",
       "2                    17977.509316                              False  \n",
       "3                    19116.473568                              False  \n",
       "4                    20046.091576                              False  "
      ]
     },
     "execution_count": 11,
     "metadata": {},
     "output_type": "execute_result"
    }
   ],
   "source": [
    "# Removing outliers (window=150, num_stdev=50)\n",
    "df=df['2004-01-01' :'2014-05-01']\n",
    "result = remove_outlier(df, \"Monthly oil production\", 50, 50, trim=True)\n",
    "result.head()"
   ]
  },
  {
   "cell_type": "code",
   "execution_count": 12,
   "metadata": {
    "pycharm": {
     "name": "#%%\n"
    }
   },
   "outputs": [
    {
     "data": {
      "image/png": "[encoded data removed]",
      "text/plain": [
       "<Figure size 720x360 with 1 Axes>"
      ]
     },
     "metadata": {
      "needs_background": "light"
     },
     "output_type": "display_data"
    }
   ],
   "source": [
    "# Plot outlier-removed oil production rate, compare w/ original\n",
    "plt.figure(figsize=(10,5))\n",
    "plt.step(df.index, df[\"Monthly oil production\"], color=\"red\", label=\"Original data\")\n",
    "plt.step(result[\"Date\"], result[\"Monthly oil production\"], color=\"blue\", label=\"Outlier removed\")\n",
    "plt.xlabel(\"Year\"); plt.ylabel(\"Rate [STB/D]\")\n",
    "\n",
    "plt.legend()\n",
    "plt.show()"
   ]
  },
  {
   "cell_type": "code",
   "execution_count": 14,
   "metadata": {
    "pycharm": {
     "name": "#%%\n"
    }
   },
   "outputs": [
    {
     "name": "stdout",
     "output_type": "stream",
     "text": [
      "Initial production rate (qi)  : 209146.23057 VOL/D\n",
      "Initial decline rate (di)     : 0.00040 VOL/D\n",
      "Decline coefficient (b)       : -1.21007\n",
      "RMSE of regression            : 0.00013\n"
     ]
    },
    {
     "data": {
      "image/png": "[encoded data removed]",
      "text/plain": [
       "<Figure size 720x504 with 1 Axes>"
      ]
     },
     "metadata": {
      "needs_background": "light"
     },
     "output_type": "display_data"
    },
    {
     "data": {
      "text/plain": [
       "(209146.23056806566,\n",
       " 0.0003979595607969457,\n",
       " -1.2100693526160453,\n",
       " 0.0001307110476962583)"
      ]
     },
     "execution_count": 14,
     "metadata": {},
     "output_type": "execute_result"
    }
   ],
   "source": [
    "t = result[\"Date\"]\n",
    "q = result[\"Monthly oil production\"]\n",
    "# Decline curve analysis\n",
    "arps_fit(t, q, plot=True)"
   ]
  },
  {
   "cell_type": "code",
   "execution_count": null,
   "metadata": {
    "pycharm": {
     "name": "#%%\n"
    }
   },
   "outputs": [],
   "source": []
  }
 ],
 "metadata": {
  "kernelspec": {
   "display_name": "Python 3",
   "language": "python",
   "name": "python3"
  },
  "language_info": {
   "codemirror_mode": {
    "name": "ipython",
    "version": 3
   },
   "file_extension": ".py",
   "mimetype": "text/x-python",
   "name": "python",
   "nbconvert_exporter": "python",
   "pygments_lexer": "ipython3",
   "version": "3.8.5"
  }
 },
 "nbformat": 4,
 "nbformat_minor": 1
}
